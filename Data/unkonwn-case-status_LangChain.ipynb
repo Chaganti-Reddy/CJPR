{
 "cells": [
  {
   "cell_type": "code",
   "execution_count": 1,
   "metadata": {
    "ExecuteTime": {
     "end_time": "2023-09-07T03:14:39.706950100Z",
     "start_time": "2023-09-07T03:14:31.483682900Z"
    }
   },
   "outputs": [],
   "source": [
    "import os\n",
    "import sys\n",
    "import openai\n",
    "import time\n",
    "import json\n",
    "import progressbar\n",
    "from langchain.llms import OpenAI\n",
    "from langchain.prompts import PromptTemplate\n",
    "from langchain.chains import LLMChain"
   ]
  },
  {
   "cell_type": "code",
   "execution_count": 2,
   "metadata": {
    "ExecuteTime": {
     "end_time": "2023-09-07T03:14:39.748949Z",
     "start_time": "2023-09-07T03:14:39.709950300Z"
    }
   },
   "outputs": [],
   "source": [
    "os.environ[\"OPENAI_API_KEY\"] =\"API\"\n",
    "\n",
    "openai.api_key = os.getenv(\"OPENAI_API_KEY\")\n",
    "\n",
    "llm = OpenAI(temperature=0.3)\n",
    "\n",
    "prompt = PromptTemplate.from_template('Answer in one word Was the case {case} accepted or rejected?')\n",
    "chain = LLMChain(llm=llm, prompt=prompt)"
   ]
  },
  {
   "cell_type": "code",
   "execution_count": 3,
   "metadata": {
    "ExecuteTime": {
     "end_time": "2023-09-07T03:14:39.771948200Z",
     "start_time": "2023-09-07T03:14:39.744947500Z"
    }
   },
   "outputs": [],
   "source": [
    "with open('unknown_1.txt') as f:\n",
    "    unknown = f.read().splitlines()"
   ]
  },
  {
   "cell_type": "code",
   "execution_count": 4,
   "metadata": {
    "ExecuteTime": {
     "end_time": "2023-09-07T03:30:54.580661900Z",
     "start_time": "2023-09-07T03:14:39.762947400Z"
    }
   },
   "outputs": [
    {
     "name": "stderr",
     "output_type": "stream",
     "text": [
      "  0% (0 of 2151) |                       | Elapsed Time: 0:00:00 ETA:  --:--:--"
     ]
    },
    {
     "name": "stdout",
     "output_type": "stream",
     "text": [
      "1987_297.txt Conscientious Group vs Mohammed Yunus And Ors. on 8 May, 1987 Rejected\n",
      " 1 seconds remaining."
     ]
    },
    {
     "name": "stderr",
     "output_type": "stream",
     "text": [
      " 97% (2105 of 2151) |################### | Elapsed Time: 0:00:21 ETA:   0:00:00"
     ]
    },
    {
     "name": "stdout",
     "output_type": "stream",
     "text": [
      "1987_298.txt State Bank Of India & Ors vs Yogendra Kumar Srivastava & Ors on 1 May, 1987 Accepted\n",
      " 1 seconds remaining."
     ]
    },
    {
     "name": "stderr",
     "output_type": "stream",
     "text": [
      " 97% (2106 of 2151) |################### | Elapsed Time: 0:00:41 ETA:   0:15:31"
     ]
    },
    {
     "name": "stdout",
     "output_type": "stream",
     "text": [
      "1987_301.txt Daya Shankar vs High Court Of Allahabad And Ors. ... on 8 May, 1987 Accepted\n",
      " 1 seconds remaining."
     ]
    },
    {
     "name": "stderr",
     "output_type": "stream",
     "text": [
      " 97% (2107 of 2151) |################### | Elapsed Time: 0:01:02 ETA:   0:15:12"
     ]
    },
    {
     "name": "stdout",
     "output_type": "stream",
     "text": [
      "1987_307.txt P. Sambamurthy & Ors vs Union Of India & Ors on 5 May, 1987 Accepted\n",
      " 1 seconds remaining."
     ]
    },
    {
     "name": "stderr",
     "output_type": "stream",
     "text": [
      " 98% (2108 of 2151) |################### | Elapsed Time: 0:01:23 ETA:   0:14:54"
     ]
    },
    {
     "name": "stdout",
     "output_type": "stream",
     "text": [
      "1987_308.txt S.P. Sampath Kumar vs Union Of India & Ors on 5 May, 1987 Accepted\n",
      " 1 seconds remaining."
     ]
    },
    {
     "name": "stderr",
     "output_type": "stream",
     "text": [
      " 98% (2109 of 2151) |################### | Elapsed Time: 0:01:44 ETA:   0:14:31"
     ]
    },
    {
     "name": "stdout",
     "output_type": "stream",
     "text": [
      "1987_309.txt Radhakant Jha vs Chief Commissioner And Ors. on 5 May, 1987 Rejected\n",
      " 1 seconds remaining."
     ]
    },
    {
     "name": "stderr",
     "output_type": "stream",
     "text": [
      " 98% (2110 of 2151) |################### | Elapsed Time: 0:02:05 ETA:   0:14:32"
     ]
    },
    {
     "name": "stdout",
     "output_type": "stream",
     "text": [
      "1987_31.txt State Of U.P. vs Hari Singh Thakur on 29 January, 1987 Accepted\n",
      " 1 seconds remaining."
     ]
    },
    {
     "name": "stderr",
     "output_type": "stream",
     "text": [
      " 98% (2111 of 2151) |################### | Elapsed Time: 0:02:26 ETA:   0:13:50"
     ]
    },
    {
     "name": "stdout",
     "output_type": "stream",
     "text": [
      "1987_310.txt Banwasi Seva Ashram vs State Of U.P. And Ors. on 6 May, 1987 Accepted\n",
      " 1 seconds remaining."
     ]
    },
    {
     "name": "stderr",
     "output_type": "stream",
     "text": [
      " 98% (2112 of 2151) |################### | Elapsed Time: 0:02:46 ETA:   0:13:30"
     ]
    },
    {
     "name": "stdout",
     "output_type": "stream",
     "text": [
      "1987_314.txt Kailash Chandra Agarwal vs State Of Madhya Pradesh And Anr. on 29 June, 1987 Accepted\n",
      " 1 seconds remaining."
     ]
    },
    {
     "name": "stderr",
     "output_type": "stream",
     "text": [
      " 98% (2113 of 2151) |################### | Elapsed Time: 0:03:07 ETA:   0:13:06"
     ]
    },
    {
     "name": "stdout",
     "output_type": "stream",
     "text": [
      "1987_321.txt Bhagwan Dass And Others vs State Of Haryana & Ors on 31 July, 1987 Accepted\n",
      " 1 seconds remaining."
     ]
    },
    {
     "name": "stderr",
     "output_type": "stream",
     "text": [
      " 98% (2114 of 2151) |################### | Elapsed Time: 0:03:28 ETA:   0:12:48"
     ]
    },
    {
     "name": "stdout",
     "output_type": "stream",
     "text": [
      "1987_332.txt Hindustan Steel Works ... vs C. Rajasekhar Rao on 27 July, 1987 Rejected\n",
      " 1 seconds remaining."
     ]
    },
    {
     "name": "stderr",
     "output_type": "stream",
     "text": [
      " 98% (2115 of 2151) |################### | Elapsed Time: 0:03:49 ETA:   0:12:26"
     ]
    },
    {
     "name": "stdout",
     "output_type": "stream",
     "text": [
      "1987_338.txt Bakshi Sardari Lal (Dead) Through ... vs Union Of India & Anr on 31 July, 1987 Rejected\n",
      " 1 seconds remaining."
     ]
    },
    {
     "name": "stderr",
     "output_type": "stream",
     "text": [
      " 98% (2116 of 2151) |################### | Elapsed Time: 0:04:09 ETA:   0:12:05"
     ]
    },
    {
     "name": "stdout",
     "output_type": "stream",
     "text": [
      "1987_34.txt Chittaranjan Choudhury vs State Of Bihar on 28 January, 1987 Accepted\n",
      " 1 seconds remaining."
     ]
    },
    {
     "name": "stderr",
     "output_type": "stream",
     "text": [
      " 98% (2117 of 2151) |################### | Elapsed Time: 0:04:30 ETA:   0:11:42"
     ]
    },
    {
     "name": "stdout",
     "output_type": "stream",
     "text": [
      "1987_341.txt A.L. Ahuja vs Union Of India on 24 July, 1987 Rejected\n",
      " 1 seconds remaining."
     ]
    },
    {
     "name": "stderr",
     "output_type": "stream",
     "text": [
      " 98% (2118 of 2151) |################### | Elapsed Time: 0:04:51 ETA:   0:11:22"
     ]
    },
    {
     "name": "stdout",
     "output_type": "stream",
     "text": [
      "1987_343.txt Satish Chandra vs Union Of India (Uoi) And Ors. on 30 July, 1987 Accepted\n",
      " 1 seconds remaining."
     ]
    },
    {
     "name": "stderr",
     "output_type": "stream",
     "text": [
      " 98% (2119 of 2151) |################### | Elapsed Time: 0:05:12 ETA:   0:11:04"
     ]
    },
    {
     "name": "stdout",
     "output_type": "stream",
     "text": [
      "1987_344.txt M. Satyanandam vs Deputy Secretary To The ... on 17 July, 1987 Rejected\n",
      " 1 seconds remaining."
     ]
    },
    {
     "name": "stderr",
     "output_type": "stream",
     "text": [
      " 98% (2120 of 2151) |################### | Elapsed Time: 0:05:32 ETA:   0:10:43"
     ]
    },
    {
     "name": "stdout",
     "output_type": "stream",
     "text": [
      "1987_348.txt Workers Of M/S. Rohtas Industries vs M/S. Rohtas Industries Ltd. on 22 July, 1987 Accepted\n",
      " 1 seconds remaining."
     ]
    },
    {
     "name": "stderr",
     "output_type": "stream",
     "text": [
      " 98% (2121 of 2151) |################### | Elapsed Time: 0:05:53 ETA:   0:10:20"
     ]
    },
    {
     "name": "stdout",
     "output_type": "stream",
     "text": [
      "1987_349.txt Shiv Dayal Shrivastava And Anr. vs Union Of India (Uoi) And Ors. on 21 July, 1987 Accepted\n",
      " 1 seconds remaining."
     ]
    },
    {
     "name": "stderr",
     "output_type": "stream",
     "text": [
      " 98% (2122 of 2151) |################### | Elapsed Time: 0:06:14 ETA:   0:10:00"
     ]
    },
    {
     "name": "stdout",
     "output_type": "stream",
     "text": [
      "1987_350.txt Beda Nand Singh And Ors. vs Director General, Central ... on 20 July, 1987 Accepted\n",
      " 1 seconds remaining."
     ]
    },
    {
     "name": "stderr",
     "output_type": "stream",
     "text": [
      " 98% (2123 of 2151) |################### | Elapsed Time: 0:06:34 ETA:   0:09:42"
     ]
    },
    {
     "name": "stdout",
     "output_type": "stream",
     "text": [
      "1987_351.txt Harsharan Verma vs Union Of India (Uoi) And Anr. on 14 July, 1987 Rejected\n",
      " 1 seconds remaining."
     ]
    },
    {
     "name": "stderr",
     "output_type": "stream",
     "text": [
      " 98% (2124 of 2151) |################### | Elapsed Time: 0:06:55 ETA:   0:09:18"
     ]
    },
    {
     "name": "stdout",
     "output_type": "stream",
     "text": [
      "1987_352.txt B.I.T. Teachers Association, ... vs Chancellor, Ranchi University ... on 20 July, 1987 Rejected\n",
      " 1 seconds remaining."
     ]
    },
    {
     "name": "stderr",
     "output_type": "stream",
     "text": [
      " 98% (2125 of 2151) |################### | Elapsed Time: 0:07:16 ETA:   0:08:58"
     ]
    },
    {
     "name": "stdout",
     "output_type": "stream",
     "text": [
      "1987_353.txt Smt. Shanti Sharma & Ors vs Smt. Ved Prabha & Ors on 26 August, 1987 Accepted\n",
      " 1 seconds remaining."
     ]
    },
    {
     "name": "stderr",
     "output_type": "stream",
     "text": [
      " 98% (2126 of 2151) |################### | Elapsed Time: 0:07:37 ETA:   0:08:37"
     ]
    },
    {
     "name": "stdout",
     "output_type": "stream",
     "text": [
      "1987_356.txt Durgacharan Misra vs State Of Orissa & Ors on 27 August, 1987 Accepted\n",
      " 1 seconds remaining."
     ]
    },
    {
     "name": "stderr",
     "output_type": "stream",
     "text": [
      " 98% (2127 of 2151) |################### | Elapsed Time: 0:07:57 ETA:   0:08:16"
     ]
    },
    {
     "name": "stdout",
     "output_type": "stream",
     "text": [
      "1987_359.txt Tara Devi vs Sri Thakur Radha Krishna Maharaj, ... on 10 August, 1987 Rejected\n",
      " 1 seconds remaining."
     ]
    },
    {
     "name": "stderr",
     "output_type": "stream",
     "text": [
      " 98% (2128 of 2151) |################### | Elapsed Time: 0:08:18 ETA:   0:07:56"
     ]
    },
    {
     "name": "stdout",
     "output_type": "stream",
     "text": [
      "1987_361.txt Krishna District Co-Operative ... vs N.V. Purnachandra Rao & Ors on 3 August, 1987 Accepted\n",
      " 1 seconds remaining."
     ]
    },
    {
     "name": "stderr",
     "output_type": "stream",
     "text": [
      " 98% (2129 of 2151) |################### | Elapsed Time: 0:08:39 ETA:   0:07:34"
     ]
    },
    {
     "name": "stdout",
     "output_type": "stream",
     "text": [
      "1987_365.txt R.L. Marwaha vs Union Of India & Ors on 12 August, 1987 Accepted\n",
      " 1 seconds remaining."
     ]
    },
    {
     "name": "stderr",
     "output_type": "stream",
     "text": [
      " 99% (2130 of 2151) |################### | Elapsed Time: 0:08:59 ETA:   0:07:15"
     ]
    },
    {
     "name": "stdout",
     "output_type": "stream",
     "text": [
      "1987_369.txt Hardeep Singh vs State Of Haryana & Ors on 13 August, 1987 Accepted\n",
      " 1 seconds remaining."
     ]
    },
    {
     "name": "stderr",
     "output_type": "stream",
     "text": [
      " 99% (2131 of 2151) |################### | Elapsed Time: 0:09:20 ETA:   0:06:53"
     ]
    },
    {
     "name": "stdout",
     "output_type": "stream",
     "text": [
      "1987_371.txt Coimbatore District Podu ... vs Bala Subramania Foundry And Ors on 11 August, 1987 Rejected\n",
      " 1 seconds remaining."
     ]
    },
    {
     "name": "stderr",
     "output_type": "stream",
     "text": [
      " 99% (2132 of 2151) |################### | Elapsed Time: 0:09:41 ETA:   0:06:34"
     ]
    },
    {
     "name": "stdout",
     "output_type": "stream",
     "text": [
      "1987_372.txt International Ore & ... vs Employees' State Insurance ... on 18 August, 1987 Accepted\n",
      " 1 seconds remaining."
     ]
    },
    {
     "name": "stderr",
     "output_type": "stream",
     "text": [
      " 99% (2133 of 2151) |################### | Elapsed Time: 0:10:02 ETA:   0:06:12"
     ]
    },
    {
     "name": "stdout",
     "output_type": "stream",
     "text": [
      "1987_373.txt Khalid Hussain (Minor), ... vs Commissioner & Secretary To ... on 19 August, 1987 Rejected\n",
      " 1 seconds remaining."
     ]
    },
    {
     "name": "stderr",
     "output_type": "stream",
     "text": [
      " 99% (2134 of 2151) |################### | Elapsed Time: 0:10:22 ETA:   0:05:51"
     ]
    },
    {
     "name": "stdout",
     "output_type": "stream",
     "text": [
      "1987_374.txt Conal Bihimappa vs State Of Karnataka & Ors on 11 August, 1987 Accepted\n",
      " 1 seconds remaining."
     ]
    },
    {
     "name": "stderr",
     "output_type": "stream",
     "text": [
      " 99% (2135 of 2151) |################### | Elapsed Time: 0:10:43 ETA:   0:05:31"
     ]
    },
    {
     "name": "stdout",
     "output_type": "stream",
     "text": [
      "1987_382.txt Smt. Poonam Lata vs M.L. Wadhawan & Anr on 7 August, 1987 Accepted\n",
      " 1 seconds remaining."
     ]
    },
    {
     "name": "stderr",
     "output_type": "stream",
     "text": [
      " 99% (2136 of 2151) |################### | Elapsed Time: 0:11:04 ETA:   0:05:10"
     ]
    },
    {
     "name": "stdout",
     "output_type": "stream",
     "text": [
      "1987_385.txt Narendra Kumar Alias Makiya vs State Of Rajasthan on 19 August, 1987 Rejected\n",
      " 1 seconds remaining."
     ]
    },
    {
     "name": "stderr",
     "output_type": "stream",
     "text": [
      " 99% (2137 of 2151) |################### | Elapsed Time: 0:11:24 ETA:   0:04:50"
     ]
    },
    {
     "name": "stdout",
     "output_type": "stream",
     "text": [
      "1987_388.txt Yashbir Singh & Ors., Etc vs Union Of India & Ors on 18 August, 1987 Accepted\n",
      " 1 seconds remaining."
     ]
    },
    {
     "name": "stderr",
     "output_type": "stream",
     "text": [
      " 99% (2138 of 2151) |################### | Elapsed Time: 0:11:45 ETA:   0:04:29"
     ]
    },
    {
     "name": "stdout",
     "output_type": "stream",
     "text": [
      "1987_389.txt Chandra Nath Banik And Anr. vs State Of West Bengal on 11 August, 1987 Accepted\n",
      " 1 seconds remaining."
     ]
    },
    {
     "name": "stderr",
     "output_type": "stream",
     "text": [
      " 99% (2139 of 2151) |################### | Elapsed Time: 0:12:06 ETA:   0:04:08"
     ]
    },
    {
     "name": "stdout",
     "output_type": "stream",
     "text": [
      "1987_392.txt Dalbir Singh vs Director General, Crpf, New Delhi on 10 August, 1987 Rejected\n",
      " 1 seconds remaining."
     ]
    },
    {
     "name": "stderr",
     "output_type": "stream",
     "text": [
      " 99% (2140 of 2151) |################### | Elapsed Time: 0:12:26 ETA:   0:03:47"
     ]
    },
    {
     "name": "stdout",
     "output_type": "stream",
     "text": [
      "1987_395.txt Punjab Vidhan Sabha And Anr. vs Prakash Singh Badal And Ors. on 12 August, 1987 Accepted\n",
      " 1 seconds remaining."
     ]
    },
    {
     "name": "stderr",
     "output_type": "stream",
     "text": [
      " 99% (2141 of 2151) |################### | Elapsed Time: 0:12:47 ETA:   0:03:27"
     ]
    },
    {
     "name": "stdout",
     "output_type": "stream",
     "text": [
      "1987_396.txt Hava Singh vs State Of Haryana & Anr on 21 August, 1987 Accepted\n",
      " 1 seconds remaining."
     ]
    },
    {
     "name": "stderr",
     "output_type": "stream",
     "text": [
      " 99% (2142 of 2151) |################### | Elapsed Time: 0:13:08 ETA:   0:03:05"
     ]
    },
    {
     "name": "stdout",
     "output_type": "stream",
     "text": [
      "1987_403.txt Md. Salim vs Md. All Since Deceased Through ... on 26 August, 1987 Rejected\n",
      " 1 seconds remaining."
     ]
    },
    {
     "name": "stderr",
     "output_type": "stream",
     "text": [
      " 99% (2143 of 2151) |################### | Elapsed Time: 0:13:29 ETA:   0:02:45"
     ]
    },
    {
     "name": "stdout",
     "output_type": "stream",
     "text": [
      "1987_404.txt Dr. Dinesh Kumar & Ors vs Motilal Nehru Medical ... on 3 August, 1987 Accepted\n",
      " 1 seconds remaining."
     ]
    },
    {
     "name": "stderr",
     "output_type": "stream",
     "text": [
      " 99% (2144 of 2151) |################### | Elapsed Time: 0:13:49 ETA:   0:02:24"
     ]
    },
    {
     "name": "stdout",
     "output_type": "stream",
     "text": [
      "1987_416.txt Prabhakaran Nair, Etc vs State Of Tamil Nadu And Ors on 3 September, 1987 Accepted\n",
      " 1 seconds remaining."
     ]
    },
    {
     "name": "stderr",
     "output_type": "stream",
     "text": [
      " 99% (2145 of 2151) |################### | Elapsed Time: 0:14:10 ETA:   0:02:04"
     ]
    },
    {
     "name": "stdout",
     "output_type": "stream",
     "text": [
      "1987_42.txt Vimal Kumar Jain vs Labour Court, Kanpur And Another on 20 January, 1987 Accepted\n",
      " 1 seconds remaining."
     ]
    },
    {
     "name": "stderr",
     "output_type": "stream",
     "text": [
      " 99% (2146 of 2151) |################### | Elapsed Time: 0:14:31 ETA:   0:01:43"
     ]
    },
    {
     "name": "stdout",
     "output_type": "stream",
     "text": [
      "1987_420.txt Baldev Krishna Sahi vs Shipping Corporation Of India ... on 17 September, 1987 Accepted\n",
      " 1 seconds remaining."
     ]
    },
    {
     "name": "stderr",
     "output_type": "stream",
     "text": [
      " 99% (2147 of 2151) |################### | Elapsed Time: 0:14:51 ETA:   0:01:22"
     ]
    },
    {
     "name": "stdout",
     "output_type": "stream",
     "text": [
      "1987_426.txt Utkal Contractors & Joinery (P) ... vs State Of Orissa on 24 September, 1987 Accepted\n",
      " 1 seconds remaining."
     ]
    },
    {
     "name": "stderr",
     "output_type": "stream",
     "text": [
      " 99% (2148 of 2151) |################### | Elapsed Time: 0:15:12 ETA:   0:01:02"
     ]
    },
    {
     "name": "stdout",
     "output_type": "stream",
     "text": [
      "1987_43.txt All Delhi Cycle Rickshaw ... vs Municipal Corporation Of Delhi & ... on 6 January, 1987 Rejected\n",
      " 1 seconds remaining."
     ]
    },
    {
     "name": "stderr",
     "output_type": "stream",
     "text": [
      " 99% (2149 of 2151) |################### | Elapsed Time: 0:15:33 ETA:   0:00:41"
     ]
    },
    {
     "name": "stdout",
     "output_type": "stream",
     "text": [
      "1987_434.txt Dhari Gram Panchayat vs Saurashtra Mazdoor Mahajan Sangh ... on 3 September, 1987 Rejected\n",
      " 1 seconds remaining."
     ]
    },
    {
     "name": "stderr",
     "output_type": "stream",
     "text": [
      " 99% (2150 of 2151) |################### | Elapsed Time: 0:15:54 ETA:   0:00:20"
     ]
    },
    {
     "name": "stdout",
     "output_type": "stream",
     "text": [
      "1987_435.txt Manmohanlal And Ors. vs Income Tax Officer, Ward-E, City ... on 22 September, 1987 Accepted\n",
      " 1 seconds remaining."
     ]
    },
    {
     "name": "stderr",
     "output_type": "stream",
     "text": [
      "100% (2151 of 2151) |####################| Elapsed Time: 0:16:14 Time:  0:16:14\n"
     ]
    }
   ],
   "source": [
    "case_status = {}\n",
    "\n",
    "main_dir = os.listdir(\"Yearwise_data/\")\n",
    "\n",
    "if not os.path.isfile(\"case_status_1.json\"):\n",
    "    with open(\"case_status_1.json\", \"w\") as f:\n",
    "        json.dump({}, f)\n",
    "\n",
    "with open(\"case_status_1.json\", \"r\") as f:\n",
    "    already_done = json.load(f)\n",
    "\n",
    "for i in progressbar.progressbar(unknown):\n",
    "    if i not in already_done.keys():\n",
    "        year = i.split(\"_\")[0]\n",
    "        with open(f\"Yearwise_data/{year}/{i[:-4]}\", \"r\", encoding=\"utf8\") as f:\n",
    "            data = f.read()\n",
    "        start_text = \"Supreme Court of India\"\n",
    "        end_text = [\"Equivalent citations\", \"Author:\", \"Bench:\", \"PETITIONER:\"]\n",
    "        start = data.find(start_text)\n",
    "        end = []\n",
    "        for k in end_text:\n",
    "            end.append(data.find(k))\n",
    "        end = [c for c in end if c != -1][0]\n",
    "        case_name = data[start+len(start_text):end].strip()\n",
    "        status = chain.run(case_name)\n",
    "        status = status.replace(\"\\n\\n\", \"\")\n",
    "        status = status.replace(\"\\n\", \"\")\n",
    "        status = status.replace(\".\", \"\")\n",
    "        status = status.replace(\" \", \"\")\n",
    "        case_status[i] = status\n",
    "        # append in json\n",
    "        already_done[i] = status\n",
    "        with open(\"case_status_1.json\", \"w\") as f:\n",
    "            json.dump(already_done, f, indent=4)\n",
    "        print(i, case_name, status)\n",
    "        # time.sleep(20)\n",
    "        for remaining in range(20, 0, -1):\n",
    "            sys.stdout.write(\"\\r\")\n",
    "            sys.stdout.write(\"{:2d} seconds remaining.\".format(remaining))\n",
    "            sys.stdout.flush()\n",
    "            time.sleep(1)\n"
   ]
  }
 ],
 "metadata": {
  "kernelspec": {
   "display_name": "Python 3",
   "language": "python",
   "name": "python3"
  },
  "language_info": {
   "codemirror_mode": {
    "name": "ipython",
    "version": 3
   },
   "file_extension": ".py",
   "mimetype": "text/x-python",
   "name": "python",
   "nbconvert_exporter": "python",
   "pygments_lexer": "ipython3",
   "version": "3.10.12"
  },
  "orig_nbformat": 4
 },
 "nbformat": 4,
 "nbformat_minor": 2
}
