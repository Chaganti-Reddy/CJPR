{
 "cells": [
  {
   "cell_type": "code",
   "execution_count": null,
   "id": "initial_id",
   "metadata": {
    "ExecuteTime": {
     "end_time": "2023-09-07T09:36:24.954551600Z",
     "start_time": "2023-09-07T09:36:24.951033700Z"
    },
    "collapsed": true
   },
   "outputs": [],
   "source": [
    "import os\n",
    "import json\n",
    "import csv\n",
    "import nltk.data"
   ]
  },
  {
   "cell_type": "code",
   "execution_count": null,
   "id": "672c963b63c64c90",
   "metadata": {
    "ExecuteTime": {
     "end_time": "2023-09-07T09:36:51.666333600Z",
     "start_time": "2023-09-07T09:36:51.659557Z"
    },
    "collapsed": false
   },
   "outputs": [],
   "source": [
    "# Define patterns for detecting civil and criminal cases\n",
    "civil_cases_pattern = ['civil']\n",
    "criminal_cases_pattern = ['criminal', 'Cr.P.C', 'Cr PC']"
   ]
  },
  {
   "cell_type": "code",
   "execution_count": null,
   "id": "587b8a269ac90e54",
   "metadata": {
    "collapsed": false
   },
   "outputs": [],
   "source": [
    "# Load the JSON data\n",
    "with open('case_status.json', 'r') as json_file:\n",
    "    data = json.load(json_file)\n",
    "\n",
    "# Initialize NLTK sentence tokenizer\n",
    "tokenizer = nltk.data.load('tokenizers/punkt/english.pickle')"
   ]
  },
  {
   "cell_type": "code",
   "execution_count": null,
   "id": "91377eeb",
   "metadata": {},
   "outputs": [],
   "source": [
    "mode = 'a' if os.path.isfile('data_2.csv') else 'w'\n",
    "with open('data_2.csv', 'w', newline='') as csv_file:\n",
    "    fieldnames = ['name', 'text', 'year', 'sentences', 'tag', 'label']\n",
    "    writer = csv.DictWriter(csv_file, fieldnames=fieldnames)\n",
    "    writer.writeheader()\n",
    "\n",
    "    # Loop through the files listed in the JSON data\n",
    "    for filename, label in data.items():\n",
    "        if filename.endswith('.txt') and label in [\"Accepted\", \"Rejected\"]:\n",
    "            # Extract year from the filename\n",
    "            year = filename.split('_')[0]\n",
    "\n",
    "            # Read the content of the file\n",
    "            with open(os.path.join('preprocessed_files', filename), 'r', encoding='utf-8') as text_file:\n",
    "                text = text_file.read()\n",
    "\n",
    "            # Tokenize the text into sentences\n",
    "            sentences = tokenizer.tokenize(text)\n",
    "\n",
    "            # Determine the tag (civil/criminal) based on patterns\n",
    "            tag = 'civil' if any(pattern in text.lower() for pattern in civil_cases_pattern) else 'criminal'\n",
    "\n",
    "            # Write the data to the CSV file\n",
    "            writer.writerow({'name': filename, 'text': text, 'year': year, 'sentences': len(sentences), 'tag': tag, 'label': label})"
   ]
  },
  {
   "cell_type": "code",
   "execution_count": null,
   "id": "ba730fd3",
   "metadata": {},
   "outputs": [],
   "source": [
    "import pandas as pd\n",
    "df = pd.read_csv('data_2.csv')\n",
    "df.head()"
   ]
  },
  {
   "cell_type": "code",
   "execution_count": null,
   "id": "c7703763",
   "metadata": {},
   "outputs": [],
   "source": [
    "df.shape"
   ]
  },
  {
   "cell_type": "code",
   "execution_count": null,
   "id": "d665a04f",
   "metadata": {},
   "outputs": [],
   "source": []
  }
 ],
 "metadata": {
  "kernelspec": {
   "display_name": "Python 3",
   "language": "python",
   "name": "python3"
  },
  "language_info": {
   "codemirror_mode": {
    "name": "ipython",
    "version": 3
   },
   "file_extension": ".py",
   "mimetype": "text/x-python",
   "name": "python",
   "nbconvert_exporter": "python",
   "pygments_lexer": "ipython3",
   "version": "3.10.0"
  }
 },
 "nbformat": 4,
 "nbformat_minor": 5
}
