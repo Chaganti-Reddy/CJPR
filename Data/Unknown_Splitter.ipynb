{
 "cells": [
  {
   "cell_type": "code",
   "execution_count": null,
   "id": "initial_id",
   "metadata": {
    "collapsed": true
   },
   "outputs": [],
   "source": [
    "import os\n",
    "import shutil\n",
    "import json"
   ]
  },
  {
   "cell_type": "code",
   "execution_count": null,
   "outputs": [],
   "source": [
    "# Load the case status information from the JSON file\n",
    "with open('case_status.json', 'r') as json_file:\n",
    "    case_status_data = json.load(json_file)\n",
    "\n",
    "# Define the source and destination directories\n",
    "source_directory = 'preprocessed_files'\n",
    "accepted_directory = 'A/Accepted'\n",
    "rejected_directory = 'A/Rejected'"
   ],
   "metadata": {
    "collapsed": false
   },
   "id": "af4be4b2b251732b"
  },
  {
   "cell_type": "code",
   "execution_count": null,
   "outputs": [],
   "source": [
    "# Create the destination directories if they don't exist\n",
    "os.makedirs(accepted_directory, exist_ok=True)\n",
    "os.makedirs(rejected_directory, exist_ok=True)"
   ],
   "metadata": {
    "collapsed": false
   },
   "id": "ae0e00c8c4b417f9"
  },
  {
   "cell_type": "code",
   "execution_count": null,
   "outputs": [],
   "source": [
    "# Iterate through the case status data and copy files accordingly\n",
    "for file_name, status in case_status_data.items():\n",
    "    if status == 'Accepted':\n",
    "        source_path = os.path.join(source_directory, file_name)\n",
    "        accepted_path = os.path.join(accepted_directory, file_name)\n",
    "        if os.path.exists(source_path):\n",
    "            shutil.copy(source_path, accepted_path)\n",
    "            print(f'Copied {file_name} to {accepted_directory}')\n",
    "        else:\n",
    "            print(f'File {file_name} not found in {source_directory}, skipping.')\n",
    "    elif status == 'Rejected':\n",
    "        source_path = os.path.join(source_directory, file_name)\n",
    "        rejected_path = os.path.join(rejected_directory, file_name)\n",
    "        if os.path.exists(source_path):\n",
    "            shutil.copy(source_path, rejected_path)\n",
    "            print(f'Copied {file_name} to {rejected_directory}')\n",
    "        else:\n",
    "            print(f'File {file_name} not found in {source_directory}, skipping.')\n",
    "    elif status == 'Unknown':\n",
    "        print(f'Skipping file {file_name} with status \"Unknown\".')\n",
    "    else:\n",
    "        print(f'Invalid status \"{status}\" for file {file_name}, skipping.')\n",
    "\n",
    "print('File copying completed.')"
   ],
   "metadata": {
    "collapsed": false
   },
   "id": "f7ac83800750f0be"
  },
  {
   "cell_type": "code",
   "execution_count": null,
   "outputs": [],
   "source": [],
   "metadata": {
    "collapsed": false
   },
   "id": "cf79060b6357eda2"
  }
 ],
 "metadata": {
  "kernelspec": {
   "display_name": "Python 3",
   "language": "python",
   "name": "python3"
  },
  "language_info": {
   "codemirror_mode": {
    "name": "ipython",
    "version": 2
   },
   "file_extension": ".py",
   "mimetype": "text/x-python",
   "name": "python",
   "nbconvert_exporter": "python",
   "pygments_lexer": "ipython2",
   "version": "2.7.6"
  }
 },
 "nbformat": 4,
 "nbformat_minor": 5
}
