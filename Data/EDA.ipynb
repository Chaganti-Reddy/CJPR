{
 "cells": [
  {
   "cell_type": "code",
   "execution_count": null,
   "metadata": {
    "ExecuteTime": {
     "end_time": "2023-09-07T09:21:26.033321800Z",
     "start_time": "2023-09-07T09:21:23.093262200Z"
    }
   },
   "outputs": [],
   "source": [
    "import numpy as np\n",
    "import matplotlib.pyplot as plt\n",
    "import seaborn as sns\n",
    "import pandas as pd\n"
   ]
  },
  {
   "cell_type": "code",
   "execution_count": null,
   "metadata": {},
   "outputs": [],
   "source": [
    "data = pd.read_csv('data_main.csv')"
   ]
  },
  {
   "cell_type": "code",
   "execution_count": null,
   "metadata": {},
   "outputs": [],
   "source": [
    "data.iloc[9650 : 9655 + 1].head()"
   ]
  },
  {
   "cell_type": "code",
   "execution_count": null,
   "metadata": {},
   "outputs": [],
   "source": [
    "data_1 = pd.read_csv('data.csv')"
   ]
  },
  {
   "cell_type": "code",
   "execution_count": null,
   "metadata": {},
   "outputs": [],
   "source": [
    "data_1 =data_1[data_1['split'] == 'test']"
   ]
  },
  {
   "cell_type": "code",
   "execution_count": null,
   "metadata": {},
   "outputs": [],
   "source": [
    "data_1.iloc[2000 : 2005 + 1].head()"
   ]
  },
  {
   "cell_type": "code",
   "execution_count": null,
   "metadata": {
    "ExecuteTime": {
     "end_time": "2023-09-07T09:23:24.223564800Z",
     "start_time": "2023-09-07T09:23:24.176565500Z"
    },
    "collapsed": false
   },
   "outputs": [],
   "source": [
    "data.shape\n"
   ]
  },
  {
   "cell_type": "code",
   "execution_count": null,
   "metadata": {},
   "outputs": [],
   "source": [
    "data.info()\n"
   ]
  },
  {
   "cell_type": "code",
   "execution_count": null,
   "metadata": {},
   "outputs": [],
   "source": [
    "data.describe()\n"
   ]
  },
  {
   "cell_type": "code",
   "execution_count": null,
   "metadata": {},
   "outputs": [],
   "source": [
    "label_counts = data['split'].value_counts()\n",
    "\n",
    "# Plotting\n",
    "fig, ax = plt.subplots()\n",
    "ax.bar(label_counts.index, label_counts.values, color=['blue', 'green', 'red'])\n",
    "\n",
    "# Add percentages on top of the bars\n",
    "for i, v in enumerate(label_counts.values):\n",
    "    percentage = '{:.2f}%'.format((v / len(data)) * 100)\n",
    "    ax.text(i, v + 0.1, percentage, ha='center', va='bottom')\n",
    "\n",
    "# Add labels and title\n",
    "ax.set_xlabel('Split')\n",
    "ax.set_ylabel('Count')\n",
    "ax.set_title('Distribution of Data Splits')\n",
    "\n",
    "# Show the plot\n",
    "plt.show()"
   ]
  },
  {
   "cell_type": "code",
   "execution_count": null,
   "metadata": {},
   "outputs": [],
   "source": [
    "df = pd.read_csv('data_main.csv')"
   ]
  },
  {
   "cell_type": "code",
   "execution_count": null,
   "metadata": {},
   "outputs": [],
   "source": [
    "df.head()"
   ]
  },
  {
   "cell_type": "code",
   "execution_count": null,
   "metadata": {},
   "outputs": [],
   "source": [
    "df['decade'] = (df['year'] // 10) * 10\n",
    "decade_cases = df.groupby('decade').size()\n",
    "\n",
    "# rename decade 1940 to 1947\n",
    "\n",
    "decade_cases[2010] = decade_cases[2010]+decade_cases[2020]\n",
    "decade_cases.drop(2020, inplace=True)\n",
    "\n",
    "# Create a bar plot for decade-wise distribution\n",
    "plt.figure(figsize=(11,4.5))\n",
    "decade_cases.index = decade_cases.index.astype(str)\n",
    "decade_cases.index = decade_cases.index.where(\n",
    "    decade_cases.index != '1940', '1947-1949')\n",
    "decade_cases.index = decade_cases.index.where(\n",
    "    decade_cases.index != '1950', '1950-1959')\n",
    "decade_cases.index = decade_cases.index.where(\n",
    "    decade_cases.index != '1960', '1960-1969')\n",
    "decade_cases.index = decade_cases.index.where(\n",
    "    decade_cases.index != '1970', '1970-1979')\n",
    "decade_cases.index = decade_cases.index.where(\n",
    "    decade_cases.index != '1980', '1980-1989')\n",
    "decade_cases.index = decade_cases.index.where(\n",
    "    decade_cases.index != '1990', '1990-1999')\n",
    "decade_cases.index = decade_cases.index.where(\n",
    "    decade_cases.index != '2000', '2000-2009')\n",
    "decade_cases.index = decade_cases.index.where(\n",
    "    decade_cases.index != '2010', '2010-2023')\n",
    "ax = sns.barplot(x=decade_cases.index, y=decade_cases.values)\n",
    "# plt.xticks(rotation=45, ha='right')\n",
    "\n",
    "# Add values on top of the bars\n",
    "for i, v in enumerate(decade_cases.values):\n",
    "    ax.text(i, v + 0.1, str(v), ha='center', va='bottom')\n",
    "\n",
    "\n",
    "plt.title('Decade Wise Cases Distribution (1947-2023)')\n",
    "plt.xlabel('Decade')\n",
    "plt.ylabel('Number of Cases')\n",
    "plt.show()"
   ]
  },
  {
   "cell_type": "code",
   "execution_count": null,
   "metadata": {},
   "outputs": [],
   "source": [
    "label_counts = data['label'].value_counts()\n",
    "\n",
    "plt.figure(figsize=(6, 4))\n",
    "ax = sns.barplot(x=label_counts.index, y=label_counts.values)\n",
    "\n",
    "for i, v in enumerate(label_counts.values):\n",
    "    ax.text(i, v + 0.1, str(v), ha='center', va='bottom')\n",
    "\n",
    "plt.xlabel('Label')\n",
    "plt.ylabel('Count')\n",
    "plt.title('Distribution of Labels')\n",
    "plt.show()"
   ]
  },
  {
   "cell_type": "code",
   "execution_count": null,
   "metadata": {
    "ExecuteTime": {
     "end_time": "2023-08-29T09:06:27.154790300Z",
     "start_time": "2023-08-29T09:06:24.165809800Z"
    }
   },
   "outputs": [],
   "source": [
    "import matplotlib.pyplot as plt\n",
    "import seaborn as sns\n",
    "\n",
    "# Sample data (replace with your actual data)\n",
    "years = list(range(1947, 2024))\n",
    "yearly_cases = [1000 + i * 10 for i in range(len(years))]\n",
    "yearly_accepted = [500 + i * 5 for i in range(len(years))]\n",
    "yearly_rejected = [500 + i * 5 for i in range(len(years))]\n",
    "\n",
    "# Group data by year\n",
    "year_wise_cases = data.groupby(['year', 'label'])['year'].count().unstack('label').fillna(0)\n",
    "year_wise_cases['total'] = year_wise_cases['Accepted'] + year_wise_cases['Rejected']\n",
    "year_wise_cases['Accepted %'] = year_wise_cases['Accepted'] / year_wise_cases['total'] * 100\n",
    "year_wise_cases['Rejected %'] = year_wise_cases['Rejected'] / year_wise_cases['total'] * 100\n",
    "\n",
    "# Create a bar plot for Year Wise % of Accepted Cases\n",
    "plt.figure(figsize=(6, 4))  # Adjust the figure size as per IEEE format\n",
    "ax = sns.barplot(x=years, y=year_wise_cases['Accepted %'], color='green')\n",
    "plt.title('Year Wise % of Accepted Cases')\n",
    "plt.xticks(rotation=45)\n",
    "plt.xlabel('Year')\n",
    "plt.ylabel('% of Cases')\n",
    "plt.legend(['Accepted'])\n",
    "for p in ax.patches:\n",
    "    ax.annotate('{:.2f}%'.format(p.get_height()), (p.get_x() + p.get_width() / 2., p.get_height()),\n",
    "                ha='center', va='center', xytext=(0, 10), textcoords='offset points')\n",
    "plt.tight_layout()  # Ensure tight layout to fit within column width\n",
    "plt.savefig('accepted_cases_plot.pdf', format='pdf')  # Save the plot as PDF\n",
    "plt.show()\n",
    "\n",
    "# Create a bar plot for Year Wise % of Rejected Cases\n",
    "plt.figure(figsize=(6, 4))  # Adjust the figure size as per IEEE format\n",
    "ax = sns.barplot(x=years, y=year_wise_cases['Rejected %'], color='red')\n",
    "plt.title('Year Wise % of Rejected Cases')\n",
    "plt.xticks(rotation=45)\n",
    "plt.xlabel('Year')\n",
    "plt.ylabel('% of Cases')\n",
    "plt.legend(['Rejected'])\n",
    "for p in ax.patches:\n",
    "    ax.annotate('{:.2f}%'.format(p.get_height()), (p.get_x() + p.get_width() / 2., p.get_height()),\n",
    "                ha='center', va='center', xytext=(0, 10), textcoords='offset points')\n",
    "plt.tight_layout()  # Ensure tight layout to fit within column width\n",
    "plt.savefig('rejected_cases_plot.pdf', format='pdf')  # Save the plot as PDF\n",
    "plt.show()\n"
   ]
  },
  {
   "cell_type": "code",
   "execution_count": null,
   "metadata": {
    "ExecuteTime": {
     "end_time": "2023-08-29T09:06:30.485666600Z",
     "start_time": "2023-08-29T09:06:27.149794600Z"
    }
   },
   "outputs": [],
   "source": [
    "# Year Wise Criminal or Civil Cases Distribution\n",
    "year_wise_cases = data.groupby(['year', 'tag'])['year'].count().unstack('tag').fillna(0)\n",
    "year_wise_cases['total'] = year_wise_cases['Criminal'] + year_wise_cases['Civil']\n",
    "year_wise_cases['Criminal %'] = year_wise_cases['Criminal'] / year_wise_cases['total'] * 100\n",
    "year_wise_cases['Civil %'] = year_wise_cases['Civil'] / year_wise_cases['total'] * 100\n",
    "\n",
    "plt.figure(figsize=(40, 8))\n",
    "ax = sns.barplot(x=years, y=year_wise_cases['Criminal %'], color='green')\n",
    "plt.title('Year Wise % of Criminal Cases')\n",
    "plt.xticks(rotation=90)\n",
    "plt.xlabel('Year')\n",
    "plt.ylabel('% of Cases')\n",
    "plt.legend(['Criminal'])\n",
    "for p in ax.patches:\n",
    "    ax.annotate(format(p.get_height(), '.2f'), (p.get_x() + p.get_width() / 2., p.get_height()),\n",
    "                ha='center', va='center', xytext=(0, 10), textcoords='offset points')\n",
    "plt.show()\n",
    "\n",
    "plt.figure(figsize=(40, 8))\n",
    "ax = sns.barplot(x=years, y=year_wise_cases['Civil %'], color='red')\n",
    "plt.title('Year Wise % of Civil Cases')\n",
    "plt.xticks(rotation=90)\n",
    "plt.xlabel('Year')\n",
    "plt.ylabel('% of Cases')\n",
    "plt.legend(['Civil'])\n",
    "for p in ax.patches:\n",
    "    ax.annotate(format(p.get_height(), '.2f'), (p.get_x() + p.get_width() / 2., p.get_height()),\n",
    "                ha='center', va='center', xytext=(0, 10), textcoords='offset points')\n",
    "plt.show()\n"
   ]
  },
  {
   "cell_type": "code",
   "execution_count": null,
   "metadata": {
    "ExecuteTime": {
     "end_time": "2023-08-29T09:06:33.614141900Z",
     "start_time": "2023-08-29T09:06:30.485666600Z"
    }
   },
   "outputs": [],
   "source": [
    "# Civil vs Criminal Accepted Cases\n",
    "year_wise_cases = data.groupby(['year', 'label', 'tag'])['year'].count().unstack(['label', 'tag']).fillna(0)\n",
    "year_wise_cases['total'] = year_wise_cases['Accepted']['Criminal'] + year_wise_cases['Accepted']['Civil']\n",
    "year_wise_cases['Criminal %'] = year_wise_cases['Accepted']['Criminal'] / year_wise_cases['total'] * 100\n",
    "year_wise_cases['Civil %'] = year_wise_cases['Accepted']['Civil'] / year_wise_cases['total'] * 100\n",
    "\n",
    "plt.figure(figsize=(40, 8))\n",
    "ax = sns.barplot(x=years, y=year_wise_cases['Criminal %'], color='green')\n",
    "plt.title('Year Wise % of Criminal Accepted Cases')\n",
    "plt.xticks(rotation=90)\n",
    "plt.xlabel('Year')\n",
    "plt.ylabel('% of Cases')\n",
    "plt.legend(['Criminal'])\n",
    "for p in ax.patches:\n",
    "    ax.annotate(format(p.get_height(), '.2f'), (p.get_x() + p.get_width() / 2., p.get_height()),\n",
    "                ha='center', va='center', xytext=(0, 10), textcoords='offset points')\n",
    "plt.show()\n",
    "\n",
    "plt.figure(figsize=(40, 8))\n",
    "ax = sns.barplot(x=years, y=year_wise_cases['Civil %'], color='red')\n",
    "plt.title('Year Wise % of Civil Accepted Cases')\n",
    "plt.xticks(rotation=90)\n",
    "plt.xlabel('Year')\n",
    "plt.ylabel('% of Cases')\n",
    "plt.legend(['Civil'])\n",
    "for p in ax.patches:\n",
    "    ax.annotate(format(p.get_height(), '.2f'), (p.get_x() + p.get_width() / 2., p.get_height()),\n",
    "                ha='center', va='center', xytext=(0, 10), textcoords='offset points')\n",
    "plt.show()\n"
   ]
  },
  {
   "cell_type": "code",
   "execution_count": null,
   "metadata": {
    "ExecuteTime": {
     "end_time": "2023-08-29T09:06:37.149273800Z",
     "start_time": "2023-08-29T09:06:33.610139500Z"
    }
   },
   "outputs": [],
   "source": [
    "# Civil vs Criminal Rejected Cases\n",
    "df['tag'] = df['tag'].str.lower()\n",
    "\n",
    "year_wise_cases = df.groupby(['year', 'label', 'tag'])['year'].count().unstack(['label', 'tag']).fillna(0)\n",
    "\n",
    "year_wise_cases['total'] = year_wise_cases['Rejected']['criminal'] + year_wise_cases['Rejected']['civil']\n",
    "\n",
    "year_wise_cases['Criminal %'] = year_wise_cases['Rejected']['criminal'] / year_wise_cases['total'] * 100\n",
    "\n",
    "year_wise_cases['Civil %'] = year_wise_cases['Rejected']['civil'] / year_wise_cases['total'] * 100\n",
    "\n",
    "\n",
    "plt.figure(figsize=(40, 8))\n",
    "\n",
    "ax = sns.barplot(x=years, y=year_wise_cases['Criminal %'], color='green')\n",
    "\n",
    "plt.title('Year Wise % of Criminal Rejected Cases')\n",
    "\n",
    "plt.xticks(rotation=90)\n",
    "\n",
    "plt.xlabel('Year')\n",
    "\n",
    "plt.ylabel('% of Cases')\n",
    "\n",
    "plt.legend(['Criminal'])\n",
    "\n",
    "for p in ax.patches:\n",
    "\n",
    "    ax.annotate(format(p.get_height(), '.2f'), (p.get_x() + p.get_width() / 2., p.get_height()),\n",
    "\n",
    "                ha='center', va='center', xytext=(0, 10), textcoords='offset points')\n",
    "plt.show()\n",
    "\n",
    "\n",
    "plt.figure(figsize=(40, 8))\n",
    "\n",
    "ax = sns.barplot(x=years, y=year_wise_cases['Civil %'], color='red')\n",
    "\n",
    "plt.title('Year Wise % of Civil Rejected Cases')\n",
    "\n",
    "plt.xticks(rotation=90)\n",
    "\n",
    "plt.xlabel('Year')\n",
    "\n",
    "plt.ylabel('% of Cases')\n",
    "\n",
    "plt.legend(['Civil'])\n",
    "\n",
    "for p in ax.patches:\n",
    "\n",
    "    ax.annotate(format(p.get_height(), '.2f'), (p.get_x() + p.get_width() / 2., p.get_height()),\n",
    "\n",
    "                ha='center', va='center', xytext=(0, 10), textcoords='offset points')\n",
    "plt.show()"
   ]
  },
  {
   "cell_type": "code",
   "execution_count": null,
   "metadata": {},
   "outputs": [],
   "source": [
    "# Distribution of sentence lengths\n",
    "plt.figure(figsize=(10, 6))\n",
    "sns.histplot(df['sentences'], bins=20, kde=True)\n",
    "plt.xlabel('Number of Sentences')\n",
    "plt.ylabel('Count')\n",
    "plt.title('Distribution of Sentence Lengths')\n",
    "plt.show()"
   ]
  },
  {
   "cell_type": "code",
   "execution_count": null,
   "metadata": {},
   "outputs": [],
   "source": [
    "plt.figure(figsize=(5, 4))\n",
    "df['tag'] = df['tag'].str.lower()\n",
    "sns.countplot(data=df, x='tag', hue='label', palette='Set2', width=0.4)\n",
    "plt.title('Distribution of Tags and Labels')\n",
    "plt.xlabel('Tag')\n",
    "plt.ylabel('Count')\n",
    "plt.legend(title='Label', loc='upper right', labels=['Accepted', 'Rejected'])\n",
    "plt.show()"
   ]
  },
  {
   "cell_type": "code",
   "execution_count": null,
   "metadata": {},
   "outputs": [],
   "source": [
    "from wordcloud import WordCloud\n",
    "\n",
    "# Ensure that the 'text' column contains only strings\n",
    "data['text'] = data['text'].astype(str)\n",
    "\n",
    "# Generate word clouds for Accepted and Rejected cases\n",
    "accepted_text = ' '.join(data[data['label'] == 'Accepted']['text'])\n",
    "rejected_text = ' '.join(data[data['label'] == 'Rejected']['text'])\n",
    "\n",
    "# Word cloud for Accepted cases\n",
    "plt.figure(figsize=(12, 6))\n",
    "wordcloud_accepted = WordCloud(width=800, height=400).generate(accepted_text)\n",
    "plt.imshow(wordcloud_accepted, interpolation='bilinear')\n",
    "plt.title('Word Cloud for Accepted Cases')\n",
    "plt.axis('off')\n",
    "plt.show()\n",
    "\n",
    "# Word cloud for Rejected cases\n",
    "plt.figure(figsize=(12, 6))\n",
    "wordcloud_rejected = WordCloud(width=800, height=400).generate(rejected_text)\n",
    "plt.imshow(wordcloud_rejected, interpolation='bilinear')\n",
    "plt.title('Word Cloud for Rejected Cases')\n",
    "plt.axis('off')\n",
    "plt.show()\n"
   ]
  },
  {
   "cell_type": "code",
   "execution_count": null,
   "metadata": {},
   "outputs": [],
   "source": []
  }
 ],
 "metadata": {
  "kernelspec": {
   "display_name": "Python 3",
   "language": "python",
   "name": "python3"
  },
  "language_info": {
   "codemirror_mode": {
    "name": "ipython",
    "version": 3
   },
   "file_extension": ".py",
   "mimetype": "text/x-python",
   "name": "python",
   "nbconvert_exporter": "python",
   "pygments_lexer": "ipython3",
   "version": "3.10.0"
  },
  "orig_nbformat": 4
 },
 "nbformat": 4,
 "nbformat_minor": 2
}
