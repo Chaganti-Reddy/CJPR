{
 "cells": [
  {
   "cell_type": "code",
   "execution_count": 1,
   "metadata": {},
   "outputs": [],
   "source": [
    "import pandas as pd"
   ]
  },
  {
   "cell_type": "code",
   "execution_count": 2,
   "metadata": {},
   "outputs": [],
   "source": [
    "data_1_df = pd.read_csv('data_1.csv')\n",
    "data_2_df = pd.read_csv('data_2.csv')"
   ]
  },
  {
   "cell_type": "code",
   "execution_count": 3,
   "metadata": {},
   "outputs": [],
   "source": [
    "combined_df = pd.concat([data_1_df, data_2_df], ignore_index=True)"
   ]
  },
  {
   "cell_type": "code",
   "execution_count": 4,
   "metadata": {},
   "outputs": [],
   "source": [
    "def custom_sort(name):\n",
    "    parts = name.split('_')\n",
    "    if len(parts) == 2 and parts[0].isdigit() and parts[1].isdigit():\n",
    "        return (int(parts[0]), int(parts[1]))\n",
    "    return name"
   ]
  },
  {
   "cell_type": "code",
   "execution_count": 5,
   "metadata": {},
   "outputs": [],
   "source": [
    "combined_df['name'] = combined_df['name'].apply(custom_sort)"
   ]
  },
  {
   "cell_type": "code",
   "execution_count": 6,
   "metadata": {},
   "outputs": [],
   "source": [
    "sorted_combined_df = combined_df.sort_values(by='name')"
   ]
  },
  {
   "cell_type": "code",
   "execution_count": 7,
   "metadata": {},
   "outputs": [],
   "source": [
    "sorted_combined_df.to_csv('data.csv', index=False)"
   ]
  },
  {
   "cell_type": "code",
   "execution_count": 8,
   "metadata": {},
   "outputs": [],
   "source": [
    "data = pd.read_csv('data.csv')"
   ]
  },
  {
   "cell_type": "code",
   "execution_count": 9,
   "metadata": {},
   "outputs": [
    {
     "data": {
      "text/html": [
       "<div>\n",
       "<style scoped>\n",
       "    .dataframe tbody tr th:only-of-type {\n",
       "        vertical-align: middle;\n",
       "    }\n",
       "\n",
       "    .dataframe tbody tr th {\n",
       "        vertical-align: top;\n",
       "    }\n",
       "\n",
       "    .dataframe thead th {\n",
       "        text-align: right;\n",
       "    }\n",
       "</style>\n",
       "<table border=\"1\" class=\"dataframe\">\n",
       "  <thead>\n",
       "    <tr style=\"text-align: right;\">\n",
       "      <th></th>\n",
       "      <th>name</th>\n",
       "      <th>text</th>\n",
       "      <th>year</th>\n",
       "      <th>sentences</th>\n",
       "      <th>tag</th>\n",
       "      <th>label</th>\n",
       "    </tr>\n",
       "  </thead>\n",
       "  <tbody>\n",
       "    <tr>\n",
       "      <th>0</th>\n",
       "      <td>1947_0.txt</td>\n",
       "      <td>Dr. B.S. CHAUHAN, J. This reference before us...</td>\n",
       "      <td>1947</td>\n",
       "      <td>605</td>\n",
       "      <td>civil</td>\n",
       "      <td>Accepted</td>\n",
       "    </tr>\n",
       "    <tr>\n",
       "      <th>1</th>\n",
       "      <td>1947_1.txt</td>\n",
       "      <td>This special leave petition has been filed ag...</td>\n",
       "      <td>1947</td>\n",
       "      <td>36</td>\n",
       "      <td>civil</td>\n",
       "      <td>Rejected</td>\n",
       "    </tr>\n",
       "    <tr>\n",
       "      <th>2</th>\n",
       "      <td>1947_10.txt</td>\n",
       "      <td>Leave granted. This appeal has been preferred...</td>\n",
       "      <td>1947</td>\n",
       "      <td>103</td>\n",
       "      <td>Civil</td>\n",
       "      <td>Accepted</td>\n",
       "    </tr>\n",
       "    <tr>\n",
       "      <th>3</th>\n",
       "      <td>1947_100.txt</td>\n",
       "      <td>S. RADHAKRISHNAN, J. We are, in this case, co...</td>\n",
       "      <td>1947</td>\n",
       "      <td>214</td>\n",
       "      <td>Criminal</td>\n",
       "      <td>Rejected</td>\n",
       "    </tr>\n",
       "    <tr>\n",
       "      <th>4</th>\n",
       "      <td>1947_102.txt</td>\n",
       "      <td>Dr. B. S. CHAUHAN, J. These appeals have been...</td>\n",
       "      <td>1947</td>\n",
       "      <td>193</td>\n",
       "      <td>Civil</td>\n",
       "      <td>Rejected</td>\n",
       "    </tr>\n",
       "  </tbody>\n",
       "</table>\n",
       "</div>"
      ],
      "text/plain": [
       "           name                                               text  year  \\\n",
       "0    1947_0.txt   Dr. B.S. CHAUHAN, J. This reference before us...  1947   \n",
       "1    1947_1.txt   This special leave petition has been filed ag...  1947   \n",
       "2   1947_10.txt   Leave granted. This appeal has been preferred...  1947   \n",
       "3  1947_100.txt   S. RADHAKRISHNAN, J. We are, in this case, co...  1947   \n",
       "4  1947_102.txt   Dr. B. S. CHAUHAN, J. These appeals have been...  1947   \n",
       "\n",
       "   sentences       tag     label  \n",
       "0        605     civil  Accepted  \n",
       "1         36     civil  Rejected  \n",
       "2        103     Civil  Accepted  \n",
       "3        214  Criminal  Rejected  \n",
       "4        193     Civil  Rejected  "
      ]
     },
     "execution_count": 9,
     "metadata": {},
     "output_type": "execute_result"
    }
   ],
   "source": [
    "data.head()"
   ]
  },
  {
   "cell_type": "code",
   "execution_count": 10,
   "metadata": {},
   "outputs": [
    {
     "data": {
      "text/plain": [
       "(54149, 6)"
      ]
     },
     "execution_count": 10,
     "metadata": {},
     "output_type": "execute_result"
    }
   ],
   "source": [
    "data.shape"
   ]
  },
  {
   "cell_type": "code",
   "execution_count": null,
   "metadata": {},
   "outputs": [],
   "source": []
  }
 ],
 "metadata": {
  "kernelspec": {
   "display_name": "venv",
   "language": "python",
   "name": "python3"
  },
  "language_info": {
   "codemirror_mode": {
    "name": "ipython",
    "version": 3
   },
   "file_extension": ".py",
   "mimetype": "text/x-python",
   "name": "python",
   "nbconvert_exporter": "python",
   "pygments_lexer": "ipython3",
   "version": "3.10.0"
  },
  "orig_nbformat": 4
 },
 "nbformat": 4,
 "nbformat_minor": 2
}
