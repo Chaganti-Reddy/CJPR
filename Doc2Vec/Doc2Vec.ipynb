{
 "cells": [
  {
   "cell_type": "code",
   "execution_count": 1,
   "id": "6204409e",
   "metadata": {},
   "outputs": [],
   "source": [
    "import os\n",
    "import pandas as pd\n",
    "from gensim.models.doc2vec import Doc2Vec, TaggedDocument\n",
    "import numpy as np\n"
   ]
  },
  {
   "cell_type": "code",
   "execution_count": 2,
   "id": "8182c1d8",
   "metadata": {},
   "outputs": [
    {
     "data": {
      "text/html": [
       "<div>\n",
       "<style scoped>\n",
       "    .dataframe tbody tr th:only-of-type {\n",
       "        vertical-align: middle;\n",
       "    }\n",
       "\n",
       "    .dataframe tbody tr th {\n",
       "        vertical-align: top;\n",
       "    }\n",
       "\n",
       "    .dataframe thead th {\n",
       "        text-align: right;\n",
       "    }\n",
       "</style>\n",
       "<table border=\"1\" class=\"dataframe\">\n",
       "  <thead>\n",
       "    <tr style=\"text-align: right;\">\n",
       "      <th></th>\n",
       "      <th>text</th>\n",
       "      <th>label</th>\n",
       "      <th>split</th>\n",
       "    </tr>\n",
       "  </thead>\n",
       "  <tbody>\n",
       "    <tr>\n",
       "      <th>0</th>\n",
       "      <td>Dr. B.S. CHAUHAN, J. This reference before us...</td>\n",
       "      <td>1</td>\n",
       "      <td>val</td>\n",
       "    </tr>\n",
       "    <tr>\n",
       "      <th>1</th>\n",
       "      <td>This special leave petition has been filed ag...</td>\n",
       "      <td>0</td>\n",
       "      <td>val</td>\n",
       "    </tr>\n",
       "    <tr>\n",
       "      <th>2</th>\n",
       "      <td>Leave granted. This appeal has been preferred...</td>\n",
       "      <td>1</td>\n",
       "      <td>train</td>\n",
       "    </tr>\n",
       "    <tr>\n",
       "      <th>3</th>\n",
       "      <td>S. RADHAKRISHNAN, J. We are, in this case, co...</td>\n",
       "      <td>0</td>\n",
       "      <td>train</td>\n",
       "    </tr>\n",
       "    <tr>\n",
       "      <th>4</th>\n",
       "      <td>Dr. B. S. CHAUHAN, J. These appeals have been...</td>\n",
       "      <td>0</td>\n",
       "      <td>test</td>\n",
       "    </tr>\n",
       "  </tbody>\n",
       "</table>\n",
       "</div>"
      ],
      "text/plain": [
       "                                                text  label  split\n",
       "0   Dr. B.S. CHAUHAN, J. This reference before us...      1    val\n",
       "1   This special leave petition has been filed ag...      0    val\n",
       "2   Leave granted. This appeal has been preferred...      1  train\n",
       "3   S. RADHAKRISHNAN, J. We are, in this case, co...      0  train\n",
       "4   Dr. B. S. CHAUHAN, J. These appeals have been...      0   test"
      ]
     },
     "execution_count": 2,
     "metadata": {},
     "output_type": "execute_result"
    }
   ],
   "source": [
    "df = pd.read_csv('..\\Data\\data.csv')\n",
    "df.head()\n"
   ]
  },
  {
   "cell_type": "code",
   "execution_count": 3,
   "id": "cc8a24f7",
   "metadata": {},
   "outputs": [
    {
     "name": "stdout",
     "output_type": "stream",
     "text": [
      "Empty DataFrame\n",
      "Columns: [text, label, split]\n",
      "Index: []\n"
     ]
    }
   ],
   "source": [
    "null_text = df[df['text'].isnull()]\n",
    "print(null_text)\n"
   ]
  },
  {
   "cell_type": "code",
   "execution_count": 5,
   "id": "f73d2821",
   "metadata": {},
   "outputs": [],
   "source": [
    "from sklearn.model_selection import train_test_split\n",
    "\n",
    "\n",
    "train_df, test_df = train_test_split(df, test_size=0.2, random_state=42)\n",
    "val_df, test_df = train_test_split(test_df, test_size=0.5, random_state=42)\n",
    "\n",
    "train_labels = train_df['label'].values\n",
    "val_labels = val_df['label'].values\n",
    "test_labels = test_df['label'].values\n"
   ]
  },
  {
   "cell_type": "code",
   "execution_count": 6,
   "id": "836627a1",
   "metadata": {},
   "outputs": [],
   "source": [
    "def create_tagged_documents(data):\n",
    "    tagged_data = [TaggedDocument(words=text.split(), tags=[str(i)]) for i, text in enumerate(data['text'])]\n",
    "    return tagged_data\n"
   ]
  },
  {
   "cell_type": "code",
   "execution_count": 7,
   "id": "a6ec197b",
   "metadata": {},
   "outputs": [],
   "source": [
    "train_tagged = create_tagged_documents(train_df)\n",
    "val_tagged = create_tagged_documents(val_df)\n",
    "test_tagged = create_tagged_documents(test_df)\n",
    "os.makedirs('doc2vec_embeddings_500', exist_ok=True)\n",
    "os.makedirs('doc2vec_embeddings_1000', exist_ok=True)\n"
   ]
  },
  {
   "cell_type": "code",
   "execution_count": 8,
   "id": "4b7fdaba",
   "metadata": {},
   "outputs": [],
   "source": [
    "embedding_sizes = [500, 1000]\n",
    "num_epochs = 50\n",
    "\n",
    "models = {}\n",
    "for size in embedding_sizes:\n",
    "    models[size] = Doc2Vec(vector_size=size, window=5, min_count=1, workers=4, epochs=num_epochs)\n",
    "    models[size].build_vocab(train_tagged)\n",
    "    models[size].train(train_tagged, total_examples=models[size].corpus_count, epochs=models[size].epochs)\n"
   ]
  },
  {
   "cell_type": "code",
   "execution_count": null,
   "id": "88638e9c",
   "metadata": {},
   "outputs": [],
   "source": [
    "datasets = ['train', 'val', 'test']\n",
    "\n",
    "for size in embedding_sizes:\n",
    "    for dataset in datasets:\n",
    "        embeddings = [models[size].infer_vector(doc.words) for doc in locals()[f'{dataset}_tagged']]\n",
    "        np.save(f'doc2vec_embeddings_{size}/{dataset}_embed.npy', np.array(embeddings))\n",
    "        np.save(f'doc2vec_embeddings_{size}/{dataset}_labels.npy', locals()[f'{dataset}_labels'])\n"
   ]
  }
 ],
 "metadata": {
  "kernelspec": {
   "display_name": "Python 3",
   "language": "python",
   "name": "python3"
  },
  "language_info": {
   "codemirror_mode": {
    "name": "ipython",
    "version": 3
   },
   "file_extension": ".py",
   "mimetype": "text/x-python",
   "name": "python",
   "nbconvert_exporter": "python",
   "pygments_lexer": "ipython3",
   "version": "3.10.0"
  }
 },
 "nbformat": 4,
 "nbformat_minor": 5
}
